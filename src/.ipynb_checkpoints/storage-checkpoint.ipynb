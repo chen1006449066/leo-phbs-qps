{
 "cells": [
  {
   "cell_type": "code",
   "execution_count": 2,
   "id": "cc157852-9c76-4657-b18a-83d0ba5206a4",
   "metadata": {},
   "outputs": [],
   "source": [
    "import pandas as pd\n",
    "\n",
    "def save_to_csv(data: pd.DataFrame, file_path: str):\n",
    "    \"\"\"\n",
    "    Save a pandas DataFrame to a CSV file.\n",
    "    Args:\n",
    "        data (pd.DataFrame): DataFrame to save.\n",
    "        file_path (str): File path where the CSV will be saved.\n",
    "    \"\"\"\n",
    "    data.to_csv(file_path)\n",
    "    print(f\"Data saved to {file_path}\")\n",
    "\n",
    "def read_from_csv(file_path: str) -> pd.DataFrame:\n",
    "    \"\"\"\n",
    "    Read a pandas DataFrame from a CSV file.\n",
    "    Args:\n",
    "        file_path (str): Path to the CSV file.\n",
    "    Returns:\n",
    "        pd.DataFrame: DataFrame read from the file.\n",
    "    \"\"\"\n",
    "    try:\n",
    "        data = pd.read_csv(file_path, index_col=0, parse_dates=True)\n",
    "        print(f\"Data read from {file_path}\")\n",
    "        return data\n",
    "    except FileNotFoundError:\n",
    "        print(f\"File not found: {file_path}\")\n",
    "        return pd.DataFrame()"
   ]
  },
  {
   "cell_type": "code",
   "execution_count": null,
   "id": "0f1d5dbe-42de-4fe8-937b-c5661f90e499",
   "metadata": {},
   "outputs": [],
   "source": []
  }
 ],
 "metadata": {
  "kernelspec": {
   "display_name": "Python 3 (ipykernel)",
   "language": "python",
   "name": "python3"
  },
  "language_info": {
   "codemirror_mode": {
    "name": "ipython",
    "version": 3
   },
   "file_extension": ".py",
   "mimetype": "text/x-python",
   "name": "python",
   "nbconvert_exporter": "python",
   "pygments_lexer": "ipython3",
   "version": "3.12.4"
  }
 },
 "nbformat": 4,
 "nbformat_minor": 5
}
