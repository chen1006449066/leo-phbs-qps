{
 "cells": [
  {
   "cell_type": "code",
   "execution_count": 1,
   "id": "a8138882-260b-4928-97a7-1e71aa065c44",
   "metadata": {},
   "outputs": [],
   "source": [
    "import sys\n",
    "import os\n",
    "\n",
    "# Dynamically add the project root directory to the module search path\n",
    "project_root = os.path.dirname(os.getcwd())\n",
    "sys.path.append(project_root)"
   ]
  },
  {
   "cell_type": "code",
   "execution_count": 2,
   "id": "286d1ea9-cf3c-4734-a622-42c4a64a0024",
   "metadata": {},
   "outputs": [
    {
     "name": "stdout",
     "output_type": "stream",
     "text": [
      "Fetching and storing CPI data...\n",
      "Data saved to /Users/chenzhuo/Desktop/leo-phbs-qps/src/cpi_data.csv\n",
      "Calculating quarterly inflation...\n",
      "Data read from /Users/chenzhuo/Desktop/leo-phbs-qps/src/cpi_data.csv\n",
      "Last 4 quarters' inflation rates:\n",
      "Quarter\n",
      "2024Q1    0.728008\n",
      "2024Q2    0.697987\n",
      "2024Q3    0.304423\n",
      "2024Q4    0.426703\n",
      "Freq: Q-DEC, Name: CPIAUCSL, dtype: float64\n"
     ]
    }
   ],
   "source": [
    "import pandas as pd\n",
    "import pandas_datareader as pdr\n",
    "from datetime import datetime\n",
    "from src.storage import save_to_csv, read_from_csv\n",
    "\n",
    "# Construct the full path to src/cpi_data.csv\n",
    "DATA_FILE_PATH = os.path.join(project_root, \"src\", \"cpi_data.csv\")\n",
    "\n",
    "def fetch_and_store_cpi_data():\n",
    "    \"\"\"\n",
    "    Fetches CPI data, stores it as a CSV, and returns the DataFrame.\n",
    "    \"\"\"\n",
    "    try:\n",
    "        # Fetch CPI data for the past year\n",
    "        start_date = datetime.now().replace(year=datetime.now().year - 1)\n",
    "        end_date = datetime.now()\n",
    "        cpi_data = pdr.get_data_fred('CPIAUCSL', start=start_date, end=end_date)\n",
    "\n",
    "        # Save the fetched data to CSV\n",
    "        save_to_csv(cpi_data, DATA_FILE_PATH)\n",
    "\n",
    "        return cpi_data\n",
    "    except Exception as e:\n",
    "        print(f\"An error occurred while fetching CPI data: {e}\")\n",
    "        return pd.DataFrame()\n",
    "\n",
    "def calculate_quarterly_inflation():\n",
    "    \"\"\"\n",
    "    Reads CPI data from storage, calculates quarterly inflation, and returns the result.\n",
    "    \"\"\"\n",
    "    # Read data from the CSV file\n",
    "    cpi_data = read_from_csv(DATA_FILE_PATH)\n",
    "    if cpi_data.empty:\n",
    "        print(\"No data available to calculate inflation.\")\n",
    "        return None\n",
    "\n",
    "    # Calculate quarterly averages\n",
    "    cpi_data['Quarter'] = cpi_data.index.to_period('Q')\n",
    "    quarterly_cpi = cpi_data.groupby('Quarter')['CPIAUCSL'].mean()\n",
    "\n",
    "    # Calculate inflation rates\n",
    "    inflation_rates = quarterly_cpi.pct_change() * 100\n",
    "    return inflation_rates.tail(4)\n",
    "\n",
    "print(\"Fetching and storing CPI data...\")\n",
    "fetch_and_store_cpi_data()\n",
    "\n",
    "# Calculate inflation rates\n",
    "print(\"Calculating quarterly inflation...\")\n",
    "last_4_quarters_inflation = calculate_quarterly_inflation()\n",
    "\n",
    "if last_4_quarters_inflation is not None:\n",
    "    print(\"Last 4 quarters' inflation rates:\")\n",
    "    print(last_4_quarters_inflation)"
   ]
  },
  {
   "cell_type": "code",
   "execution_count": null,
   "id": "e7321cd5-67b6-432e-977b-255d7d794c75",
   "metadata": {},
   "outputs": [],
   "source": []
  }
 ],
 "metadata": {
  "kernelspec": {
   "display_name": "Python 3 (ipykernel)",
   "language": "python",
   "name": "python3"
  },
  "language_info": {
   "codemirror_mode": {
    "name": "ipython",
    "version": 3
   },
   "file_extension": ".py",
   "mimetype": "text/x-python",
   "name": "python",
   "nbconvert_exporter": "python",
   "pygments_lexer": "ipython3",
   "version": "3.12.4"
  }
 },
 "nbformat": 4,
 "nbformat_minor": 5
}
